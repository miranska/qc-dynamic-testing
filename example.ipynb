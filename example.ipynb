{
 "cells": [
  {
   "cell_type": "markdown",
   "source": [
    "# Introduction\n",
    "The notebook implements an example described in [1].\n",
    "\n",
    "# Prepare Quantum Oracle\n",
    "The conversion of a classical circuit to a quantum circuit is still in its infancy. Consequently, we must manually convert Algorithm 3 to a format Qiskit understands.\n",
    "\n",
    "The function Oracle (shown below) returns the result of the conversion to $f(x)$:"
   ],
   "metadata": {
    "collapsed": false,
    "pycharm": {
     "name": "#%% md\n"
    }
   }
  },
  {
   "cell_type": "code",
   "execution_count": 1,
   "outputs": [],
   "source": [
    "from qiskit.circuit import classical_function, Int1\n",
    "\n",
    "@classical_function\n",
    "def oracle(z1_bit1: Int1, z1_bit2: Int1, z2: Int1) -> Int1: # Int1 is Qiskit's bit type\n",
    "    return (z1_bit1 and z1_bit2 and not z2) or \\\n",
    "           (z1_bit1 and not z1_bit2 and z2)"
   ],
   "metadata": {
    "collapsed": false,
    "pycharm": {
     "name": "#%%\n"
    }
   }
  },
  {
   "cell_type": "markdown",
   "source": [
    "Once in this form, Qiskit’s `@classical_function` decorator automatically converts $f(x)$ to the quantum circuit (so called bit-flip oracle). Let's take a look at the circuit and associated OpenQASM code listing:"
   ],
   "metadata": {
    "collapsed": false,
    "pycharm": {
     "name": "#%% md\n"
    }
   }
  },
  {
   "cell_type": "code",
   "execution_count": 2,
   "outputs": [
    {
     "data": {
      "text/plain": "<Figure size 206.997x264.88 with 1 Axes>",
      "image/png": "[encoded data removed]"
     },
     "execution_count": 2,
     "metadata": {},
     "output_type": "execute_result"
    }
   ],
   "source": [
    "my_bitflip_oracle = oracle.synth()\n",
    "my_bitflip_oracle.draw(output='mpl')"
   ],
   "metadata": {
    "collapsed": false,
    "pycharm": {
     "name": "#%%\n"
    }
   }
  },
  {
   "cell_type": "code",
   "execution_count": 3,
   "outputs": [
    {
     "name": "stdout",
     "output_type": "stream",
     "text": [
      "\u001B[92mOPENQASM\u001B[39m \u001B[96m2\u001B[39m.\u001B[96m0\u001B[39m;\n",
      "\u001B[92minclude\u001B[39m\u001B[91m \"qelib1.inc\"\u001B[39m;\n",
      "\u001B[92mqreg\u001B[39m q[\u001B[96m4\u001B[39m];\n",
      "\u001B[95mccx\u001B[39m q[\u001B[96m0\u001B[39m],q[\u001B[96m1\u001B[39m],q[\u001B[96m3\u001B[39m];\n",
      "\u001B[95mccx\u001B[39m q[\u001B[96m0\u001B[39m],q[\u001B[96m2\u001B[39m],q[\u001B[96m3\u001B[39m];\n",
      "\n"
     ]
    }
   ],
   "source": [
    "my_bitflip_oracle.qasm(formatted=True)"
   ],
   "metadata": {
    "collapsed": false,
    "pycharm": {
     "name": "#%%\n"
    }
   }
  },
  {
   "cell_type": "markdown",
   "source": [
    "As described in the paper, the oracle's input is three bits long, i.e., $n = 3$. We will refer to it as `input_qubits_count` in this code listing:"
   ],
   "metadata": {
    "collapsed": false,
    "pycharm": {
     "name": "#%% md\n"
    }
   }
  },
  {
   "cell_type": "code",
   "execution_count": 4,
   "outputs": [],
   "source": [
    "input_qubits_count = 3"
   ],
   "metadata": {
    "collapsed": false,
    "pycharm": {
     "name": "#%%\n"
    }
   }
  },
  {
   "cell_type": "markdown",
   "source": [
    "A phase-flip oracle is required to use Grover's algorithm. When bit-flip oracles are placed between NOT gates and Hadamard gates, they are converted to phase-flip oracles. To convert a bit-flip Oracle to a phase-flip Oracle, let's create a function named `get_phase_flip_oracle`:"
   ],
   "metadata": {
    "collapsed": false,
    "pycharm": {
     "name": "#%% md\n"
    }
   }
  },
  {
   "cell_type": "code",
   "execution_count": 5,
   "outputs": [],
   "source": [
    "from qiskit.circuit import QuantumCircuit\n",
    "from qiskit.circuit.classicalfunction import ClassicalFunction\n",
    "\n",
    "def get_phase_flip_oracle(bitflip_oracle: ClassicalFunction, n: int) -> QuantumCircuit:\n",
    "    \"\"\"\n",
    "    Convert a bit-flip oracle to a phase-flip oracle.\n",
    "\n",
    "    :param bitflip_oracle: bit-flip oracle\n",
    "    :param n: count of input qubits\n",
    "    :return: phase-flip oracle\n",
    "    \"\"\"\n",
    "    phase_oracle = QuantumCircuit(n+1)\n",
    "    phase_oracle.x(n)\n",
    "    phase_oracle.h(n)\n",
    "    phase_oracle.compose(bitflip_oracle.synth(), inplace=True)\n",
    "    phase_oracle.h(n)\n",
    "    phase_oracle.x(n)\n",
    "    return phase_oracle"
   ],
   "metadata": {
    "collapsed": false,
    "pycharm": {
     "name": "#%%\n"
    }
   }
  },
  {
   "cell_type": "markdown",
   "source": [
    "Take a look at the circuit and OpenQASM code listing resulting from converting our bit-flip oracle to a phase-flip oracle:"
   ],
   "metadata": {
    "collapsed": false,
    "pycharm": {
     "name": "#%% md\n"
    }
   }
  },
  {
   "cell_type": "code",
   "execution_count": 6,
   "outputs": [
    {
     "data": {
      "text/plain": "<Figure size 447.797x264.88 with 1 Axes>",
      "image/png": "[encoded data removed]"
     },
     "execution_count": 6,
     "metadata": {},
     "output_type": "execute_result"
    }
   ],
   "source": [
    "phase_flip_oracle = get_phase_flip_oracle(oracle, input_qubits_count)\n",
    "phase_flip_oracle.draw(output='mpl')"
   ],
   "metadata": {
    "collapsed": false,
    "pycharm": {
     "name": "#%%\n"
    }
   }
  },
  {
   "cell_type": "code",
   "execution_count": 7,
   "outputs": [
    {
     "name": "stdout",
     "output_type": "stream",
     "text": [
      "\u001B[92mOPENQASM\u001B[39m \u001B[96m2\u001B[39m.\u001B[96m0\u001B[39m;\n",
      "\u001B[92minclude\u001B[39m\u001B[91m \"qelib1.inc\"\u001B[39m;\n",
      "\u001B[92mqreg\u001B[39m q[\u001B[96m4\u001B[39m];\n",
      "\u001B[95mx\u001B[39m q[\u001B[96m3\u001B[39m];\n",
      "\u001B[95mh\u001B[39m q[\u001B[96m3\u001B[39m];\n",
      "\u001B[95mccx\u001B[39m q[\u001B[96m0\u001B[39m],q[\u001B[96m1\u001B[39m],q[\u001B[96m3\u001B[39m];\n",
      "\u001B[95mccx\u001B[39m q[\u001B[96m0\u001B[39m],q[\u001B[96m2\u001B[39m],q[\u001B[96m3\u001B[39m];\n",
      "\u001B[95mh\u001B[39m q[\u001B[96m3\u001B[39m];\n",
      "\u001B[95mx\u001B[39m q[\u001B[96m3\u001B[39m];\n",
      "\n"
     ]
    }
   ],
   "source": [
    "phase_flip_oracle.qasm(formatted=True)"
   ],
   "metadata": {
    "collapsed": false,
    "pycharm": {
     "name": "#%%\n"
    }
   }
  },
  {
   "cell_type": "markdown",
   "source": [
    "We will assume that we have passed our oracle to the quantum counting algorithm and obtained the number of inputs causing defects (denoted by $K$)."
   ],
   "metadata": {
    "collapsed": false,
    "pycharm": {
     "name": "#%% md\n"
    }
   }
  },
  {
   "cell_type": "code",
   "execution_count": 8,
   "outputs": [],
   "source": [
    "K = 2  # obtained from the quantum counting algorithm"
   ],
   "metadata": {
    "collapsed": false,
    "pycharm": {
     "name": "#%%\n"
    }
   }
  },
  {
   "cell_type": "markdown",
   "source": [
    "As a result, we can calculate the number of Grover's iterations count $r(N, K)$, where $N = 2^n$ (see the paper for details):"
   ],
   "metadata": {
    "collapsed": false,
    "pycharm": {
     "name": "#%% md\n"
    }
   }
  },
  {
   "cell_type": "code",
   "execution_count": 9,
   "outputs": [
    {
     "name": "stdout",
     "output_type": "stream",
     "text": [
      "Grover's iterations count: 2\n"
     ]
    }
   ],
   "source": [
    "from math import ceil, pi, sqrt, pow\n",
    "r = ceil(pi / 4.0 * sqrt(pow(2, input_qubits_count) / K))\n",
    "print(f\"Grover's iterations count: {r}\")"
   ],
   "metadata": {
    "collapsed": false,
    "pycharm": {
     "name": "#%%\n"
    }
   }
  },
  {
   "cell_type": "markdown",
   "source": [
    "Grover's algorithm is readily available in Qiskit. First, we need to formulate the amplification problem and specify that we only need to measure the first three qubits (since we are not interested in the value returned by the oracle)."
   ],
   "metadata": {
    "collapsed": false,
    "pycharm": {
     "name": "#%% md\n"
    }
   }
  },
  {
   "cell_type": "code",
   "execution_count": 10,
   "outputs": [],
   "source": [
    "from qiskit.algorithms import AmplificationProblem\n",
    "\n",
    "# create input to amplitude amplification algorithms (e.g., Grover's algorithm) and measure only the first three qubits\n",
    "# as `list(range(input_qubits_count)) == list(range(3)) == [0, 1, 2]`\n",
    "my_amplification_problem = AmplificationProblem(phase_flip_oracle, objective_qubits=list(range(input_qubits_count)))"
   ],
   "metadata": {
    "collapsed": false,
    "pycharm": {
     "name": "#%%\n"
    }
   }
  },
  {
   "cell_type": "markdown",
   "source": [
    "# Identify specific inputs that cause failures\n",
    "In this toy example, the values causing failures are `101` and `110`. Let's pass the amplification problem to Grover's algorithm and run it on three backends:\n",
    "\n",
    "1. Qiskit simulator of an ideal quantum computer (QC),\n",
    "2. Qiskit simulator of a real QC ibmq_lima, and\n",
    "3. QC ibmq_lima.\n",
    "\n",
    "Note that the outputs from all backends will vary from run to run.\n",
    "\n",
    "## Simulator of an ideal quantum computer\n",
    "Let's first execute the algorithm on a simulator of an ideal QC. By default, 1024 shots are taken."
   ],
   "metadata": {
    "collapsed": false,
    "pycharm": {
     "name": "#%% md\n"
    }
   }
  },
  {
   "cell_type": "code",
   "execution_count": 11,
   "outputs": [],
   "source": [
    "from qiskit import Aer\n",
    "from qiskit.algorithms import Grover\n",
    "\n",
    "aer_simulator = Aer.get_backend('aer_simulator')\n",
    "grover = Grover(quantum_instance=aer_simulator, iterations=r)\n",
    "result = grover.amplify(my_amplification_problem)"
   ],
   "metadata": {
    "collapsed": false,
    "pycharm": {
     "name": "#%%\n"
    }
   }
  },
  {
   "cell_type": "markdown",
   "source": [
    "Grover's algorithm returns the following distinct values:"
   ],
   "metadata": {
    "collapsed": false,
    "pycharm": {
     "name": "#%% md\n"
    }
   }
  },
  {
   "cell_type": "code",
   "execution_count": 12,
   "outputs": [
    {
     "name": "stdout",
     "output_type": "stream",
     "text": [
      "[{'011': 469, '111': 7, '000': 10, '010': 3, '001': 9, '100': 8, '110': 9, '101': 509}]\n"
     ]
    }
   ],
   "source": [
    "print(result.circuit_results)"
   ],
   "metadata": {
    "collapsed": false,
    "pycharm": {
     "name": "#%%\n"
    }
   }
  },
  {
   "cell_type": "markdown",
   "source": [
    "As Qiskit flips bit strings, the resulting bit strings can be reversed and converted to probability values as follows:"
   ],
   "metadata": {
    "collapsed": false,
    "pycharm": {
     "name": "#%% md\n"
    }
   }
  },
  {
   "cell_type": "code",
   "execution_count": 13,
   "outputs": [],
   "source": [
    "def reverse_labels(circuit_results: list) -> list:\n",
    "    \"\"\"\n",
    "    Reverse labels in the \"circuit results\" data structure\n",
    "\n",
    "    :param circuit_results: circuit results\n",
    "    :return: the \"circuit results\" data structure with inverted labels\n",
    "    \"\"\"\n",
    "    to_plot = {}\n",
    "    labels = circuit_results[0].keys()\n",
    "    for label in labels:\n",
    "        to_plot[ label[::-1] ] = circuit_results[0][label]\n",
    "    return [to_plot]"
   ],
   "metadata": {
    "collapsed": false,
    "pycharm": {
     "name": "#%%\n"
    }
   }
  },
  {
   "cell_type": "code",
   "execution_count": 14,
   "outputs": [
    {
     "data": {
      "text/plain": "<Figure size 504x360 with 1 Axes>",
      "image/png": "[encoded data removed]"
     },
     "execution_count": 14,
     "metadata": {},
     "output_type": "execute_result"
    }
   ],
   "source": [
    "from qiskit.visualization import plot_histogram\n",
    "plot_histogram(reverse_labels(result.circuit_results))"
   ],
   "metadata": {
    "collapsed": false,
    "pycharm": {
     "name": "#%%\n"
    }
   }
  },
  {
   "cell_type": "markdown",
   "source": [
    "## Simulator of ibmq_lima\n",
    "Let's try the search on a simulator of a real QC `ibmq_lima`. The default number of shots is 1024.\n"
   ],
   "metadata": {
    "collapsed": false,
    "pycharm": {
     "name": "#%% md\n"
    }
   }
  },
  {
   "cell_type": "code",
   "execution_count": 15,
   "outputs": [
    {
     "name": "stdout",
     "output_type": "stream",
     "text": [
      "[{'011': 227, '111': 88, '001': 124, '100': 103, '110': 75, '010': 95, '000': 94, '101': 218}]\n"
     ]
    }
   ],
   "source": [
    "from qiskit.providers.aer import AerSimulator\n",
    "from qiskit.providers.fake_provider import lima\n",
    "aer_simulator = AerSimulator.from_backend(lima.FakeLima())\n",
    "grover = Grover(quantum_instance=aer_simulator, iterations=r)\n",
    "result = grover.amplify(my_amplification_problem)\n",
    "print(result.circuit_results)"
   ],
   "metadata": {
    "collapsed": false,
    "pycharm": {
     "name": "#%%\n"
    }
   }
  },
  {
   "cell_type": "code",
   "execution_count": 16,
   "outputs": [
    {
     "data": {
      "text/plain": "<Figure size 504x360 with 1 Axes>",
      "image/png": "[encoded data removed]"
     },
     "execution_count": 16,
     "metadata": {},
     "output_type": "execute_result"
    }
   ],
   "source": [
    "plot_histogram(reverse_labels(result.circuit_results))"
   ],
   "metadata": {
    "collapsed": false,
    "pycharm": {
     "name": "#%%\n"
    }
   }
  },
  {
   "cell_type": "markdown",
   "source": [
    "## Actual ibmq_lima\n",
    "Finally, let's use an actual QC `ibmq_lima`. By default, 4000 shots are taken. As your job will be queued, this step may take some time."
   ],
   "metadata": {
    "collapsed": false,
    "pycharm": {
     "name": "#%% md\n"
    }
   }
  },
  {
   "cell_type": "code",
   "execution_count": 17,
   "outputs": [
    {
     "name": "stdout",
     "output_type": "stream",
     "text": [
      "[{'000': 369, '001': 570, '010': 499, '011': 605, '100': 403, '101': 605, '110': 457, '111': 492}]\n"
     ]
    }
   ],
   "source": [
    "from qiskit import IBMQ\n",
    "\n",
    "# Connect to your account. If you are running Qiskit code for the first time, uncomment the line below and\n",
    "# add a secret token for your IBM Quantum account; see https://quantum-computing.ibm.com/ for details.\n",
    "\n",
    "#IBMQ.save_account('YOUR TOKEN GOES HERE')\n",
    "IBMQ.load_account() # Load account from disk\n",
    "\n",
    "backend = IBMQ.get_provider(hub='ibm-q').get_backend('ibmq_lima')\n",
    "grover = Grover(quantum_instance=backend, iterations=r)\n",
    "result = grover.amplify(my_amplification_problem)\n",
    "print(result.circuit_results)"
   ],
   "metadata": {
    "collapsed": false,
    "pycharm": {
     "name": "#%%\n"
    }
   }
  },
  {
   "cell_type": "code",
   "execution_count": 18,
   "outputs": [
    {
     "data": {
      "text/plain": "<Figure size 504x360 with 1 Axes>",
      "image/png": "[encoded data removed]"
     },
     "execution_count": 18,
     "metadata": {},
     "output_type": "execute_result"
    }
   ],
   "source": [
    "plot_histogram(reverse_labels(result.circuit_results))"
   ],
   "metadata": {
    "collapsed": false,
    "pycharm": {
     "name": "#%%\n"
    }
   }
  },
  {
   "cell_type": "markdown",
   "source": [
    "# Summary\n",
    "An ideal QC simulator gives the best results, while a real QC gives the worst."
   ],
   "metadata": {
    "collapsed": false,
    "pycharm": {
     "name": "#%% md\n"
    }
   }
  },
  {
   "cell_type": "markdown",
   "source": [
    "# References\n",
    "1. A. Miranskyy. 2022. Using Quantum Computers to Speed Up Dynamic Testing of Software. In Proceedings of the 1st International Workshop on Quantum Programming for Software Engineering (QP4SE ’22), November 18, 2022, Singapore, Singapore. ACM, New York, NY, USA, 6 pages. [https://doi.org/10.1145/3549036.3562061](https://doi.org/10.1145/3549036.3562061). To appear."
   ],
   "metadata": {
    "collapsed": false,
    "pycharm": {
     "name": "#%% md\n"
    }
   }
  },
  {
   "cell_type": "code",
   "execution_count": 19,
   "outputs": [
    {
     "data": {
      "text/plain": "<IPython.core.display.HTML object>",
      "text/html": "<h3>Version Information</h3><table><tr><th>Qiskit Software</th><th>Version</th></tr><tr><td><code>qiskit-terra</code></td><td>0.21.0</td></tr><tr><td><code>qiskit-aer</code></td><td>0.10.4</td></tr><tr><td><code>qiskit-ignis</code></td><td>0.7.0</td></tr><tr><td><code>qiskit-ibmq-provider</code></td><td>0.19.2</td></tr><tr><td><code>qiskit</code></td><td>0.37.0</td></tr><tr><th>System information</th></tr><tr><td>Python version</td><td>3.10.4</td></tr><tr><td>Python compiler</td><td>Clang 12.0.0 </td></tr><tr><td>Python build</td><td>main, Mar 31 2022 03:38:35</td></tr><tr><td>OS</td><td>Darwin</td></tr><tr><td>CPUs</td><td>10</td></tr><tr><td>Memory (Gb)</td><td>64.0</td></tr><tr><td colspan='2'>Sun Sep 04 15:50:09 2022 EDT</td></tr></table>"
     },
     "metadata": {},
     "output_type": "display_data"
    }
   ],
   "source": [
    "import qiskit.tools.jupyter\n",
    "%qiskit_version_table\n"
   ],
   "metadata": {
    "collapsed": false,
    "pycharm": {
     "name": "#%%\n"
    }
   }
  }
 ],
 "metadata": {
  "kernelspec": {
   "display_name": "Python 3",
   "language": "python",
   "name": "python3"
  },
  "language_info": {
   "codemirror_mode": {
    "name": "ipython",
    "version": 2
   },
   "file_extension": ".py",
   "mimetype": "text/x-python",
   "name": "python",
   "nbconvert_exporter": "python",
   "pygments_lexer": "ipython2",
   "version": "2.7.6"
  }
 },
 "nbformat": 4,
 "nbformat_minor": 0
}